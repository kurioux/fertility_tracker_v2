{
 "cells": [
  {
   "cell_type": "code",
   "execution_count": 1,
   "id": "9fca7738-4542-41e1-a9c7-9be7692dcdee",
   "metadata": {},
   "outputs": [],
   "source": [
    "import pandas as pd\n",
    "import numpy as np\n",
    "import joblib\n"
   ]
  },
  {
   "cell_type": "code",
   "execution_count": 5,
   "id": "2d9e2f63-a50a-4da9-a4c5-ec1c60f277ea",
   "metadata": {},
   "outputs": [],
   "source": [
    "# Load trained components\n",
    "scaler = joblib.load(\"scaler.pkl\")\n",
    "kmeans = joblib.load(\"kmeans_model.pkl\")\n",
    "cluster_to_phase = joblib.load(\"fertility_cluster_mapper.pkl\")\n"
   ]
  },
  {
   "cell_type": "code",
   "execution_count": 6,
   "id": "01ffcb5c-6559-4712-b76d-51eadc1a3f34",
   "metadata": {},
   "outputs": [],
   "source": [
    "def predict_phase(input_data):\n",
    "    \"\"\"\n",
    "    Takes a dictionary or DataFrame row of input values and returns predicted menstrual phase.\n",
    "    Input must include: BodyTemp, BPM, SPO2, BodyTemp_RollMean, BPM_RollMean, Temp_Amplitude\n",
    "    \"\"\"\n",
    "    required_features = ['BodyTemp', 'BPM', 'SPO2', 'BodyTemp_RollMean', 'BPM_RollMean', 'Temp_Amplitude']\n",
    "    \n",
    "    # Convert to DataFrame if not already\n",
    "    if isinstance(input_data, dict):\n",
    "        input_df = pd.DataFrame([input_data])\n",
    "    else:\n",
    "        input_df = input_data.copy()\n",
    "    \n",
    "    # Ensure the column order is correct\n",
    "    input_df = input_df[required_features]\n",
    "    \n",
    "    # Scale and predict\n",
    "    input_scaled = scaler.transform(input_df)\n",
    "    cluster = kmeans.predict(input_scaled)[0]\n",
    "    phase = cluster_to_phase.get(cluster, \"Unknown\")\n",
    "    \n",
    "    return cluster, phase\n"
   ]
  },
  {
   "cell_type": "code",
   "execution_count": 8,
   "id": "37a4e9b6-aa28-43a6-b1f0-0e40a34d8fa6",
   "metadata": {},
   "outputs": [
    {
     "name": "stdout",
     "output_type": "stream",
     "text": [
      "=== Predicted Output ===\n",
      "Cluster ID       : 2\n",
      "Menstrual Phase : Luteal\n"
     ]
    }
   ],
   "source": [
    "# Simulated real-time buffer\n",
    "temp_buffer = [36.5, 36.6, 36.7, 36.8, 36.9]\n",
    "bpm_buffer = [75, 76, 77, 78, 79]\n",
    "latest_spo2 = 97\n",
    "\n",
    "# Real-time input simulation (could be from a sensor loop)\n",
    "latest_temp = temp_buffer[-1]\n",
    "latest_bpm = bpm_buffer[-1]\n",
    "\n",
    "# Compute rolling features\n",
    "bodytemp_roll = np.mean(temp_buffer)\n",
    "bpm_roll = np.mean(bpm_buffer)\n",
    "temp_amp = np.max(temp_buffer) - np.min(temp_buffer)\n",
    "\n",
    "# Form the full input\n",
    "input_vector = {\n",
    "    'BodyTemp': latest_temp,\n",
    "    'BPM': latest_bpm,\n",
    "    'SPO2': latest_spo2,\n",
    "    'BodyTemp_RollMean': bodytemp_roll,\n",
    "    'BPM_RollMean': bpm_roll,\n",
    "    'Temp_Amplitude': temp_amp\n",
    "}\n",
    "\n",
    "# Predict\n",
    "cluster, phase = predict_phase(input_vector)\n",
    "\n",
    "# Output\n",
    "print(\"=== Predicted Output ===\")\n",
    "print(f\"Cluster ID       : {cluster}\")\n",
    "print(f\"Menstrual Phase : {phase}\")\n"
   ]
  },
  {
   "cell_type": "code",
   "execution_count": 9,
   "id": "03de4371-dbc1-4624-ad1e-217310310656",
   "metadata": {},
   "outputs": [
    {
     "name": "stdout",
     "output_type": "stream",
     "text": [
      "Predicted Cluster: 1\n",
      "Predicted Menstrual Phase: Ovulatory\n"
     ]
    }
   ],
   "source": [
    "# Sample input data (replace with real values)\n",
    "sample_input = {\n",
    "    'BodyTemp': 36.9,\n",
    "    'BPM': 76,\n",
    "    'SPO2': 97,\n",
    "    'BodyTemp_RollMean': 36.8,\n",
    "    'BPM_RollMean': 75,\n",
    "    'Temp_Amplitude': 0.3\n",
    "}\n",
    "\n",
    "cluster, phase = predict_phase(sample_input)\n",
    "\n",
    "print(f\"Predicted Cluster: {cluster}\")\n",
    "print(f\"Predicted Menstrual Phase: {phase}\")\n"
   ]
  },
  {
   "cell_type": "markdown",
   "id": "a2c60871-8279-4210-8779-f67beeda9ff3",
   "metadata": {},
   "source": [
    "# streamlit"
   ]
  },
  {
   "cell_type": "code",
   "execution_count": 13,
   "id": "69455d90-2ef6-4a51-85ca-90d59a693a41",
   "metadata": {},
   "outputs": [
    {
     "name": "stdout",
     "output_type": "stream",
     "text": [
      ".gitignore file created successfully! ✅\n"
     ]
    }
   ],
   "source": [
    "# This will create a .gitignore file in your current folder\n",
    "gitignore_content = \"\"\"__pycache__/\n",
    "*.py[cod]\n",
    "*.pyo\n",
    "*.pkl\n",
    "*.joblib\n",
    ".DS_Store\n",
    "Thumbs.db\n",
    ".streamlit/\n",
    ".env\n",
    "venv/\n",
    ".vscode/\n",
    "prediction_log.csv\n",
    "\"\"\"\n",
    "\n",
    "with open(\".gitignore\", \"w\") as f:\n",
    "    f.write(gitignore_content)\n",
    "\n",
    "print(\".gitignore file created successfully! ✅\")\n"
   ]
  },
  {
   "cell_type": "code",
   "execution_count": 15,
   "id": "a1d756a4-258b-4f09-b4f4-e587c16315a4",
   "metadata": {},
   "outputs": [
    {
     "name": "stdout",
     "output_type": "stream",
     "text": [
      " Volume in drive C has no label.\n",
      " Volume Serial Number is CACF-2C9B\n",
      "\n",
      " Directory of C:\\Users\\Dell\\fertility_period\\model\n",
      "\n",
      "04/21/2025  04:43 PM    <DIR>          .\n",
      "04/21/2025  04:31 PM    <DIR>          ..\n",
      "04/21/2025  04:31 PM    <DIR>          .git\n",
      "04/21/2025  04:42 PM               127 .gitignore\n",
      "04/21/2025  04:14 PM    <DIR>          .ipynb_checkpoints\n",
      "04/21/2025  03:52 PM             2,978 app.py\n",
      "04/21/2025  12:47 PM                56 fertility_cluster_mapper.pkl\n",
      "04/21/2025  12:47 PM             4,295 kmeans_model.pkl\n",
      "04/21/2025  12:45 PM            30,150 Merged.xlsx\n",
      "04/21/2025  04:43 PM           407,550 ModelTraining.ipynb\n",
      "04/21/2025  04:43 PM             5,590 model_deployement.ipynb\n",
      "04/21/2025  04:15 PM               200 prediction_log.csv\n",
      "04/21/2025  04:16 PM             1,518 README.md\n",
      "04/21/2025  04:08 PM                53 requirements.txt\n",
      "04/21/2025  12:46 PM             1,159 scaler.pkl\n",
      "              11 File(s)        453,676 bytes\n",
      "               4 Dir(s)  23,264,124,928 bytes free\n"
     ]
    }
   ],
   "source": [
    "!dir /a\n",
    "\n"
   ]
  },
  {
   "cell_type": "code",
   "execution_count": 17,
   "id": "5f44929d-5627-4e40-9cca-bd454d186ccb",
   "metadata": {},
   "outputs": [
    {
     "name": "stderr",
     "output_type": "stream",
     "text": [
      "fatal: not a git repository (or any of the parent directories): .git\n"
     ]
    }
   ],
   "source": [
    "!git add .gitignore\n"
   ]
  },
  {
   "cell_type": "code",
   "execution_count": null,
   "id": "830aa3df-a580-4260-bcbb-d257c5332ad2",
   "metadata": {},
   "outputs": [],
   "source": []
  }
 ],
 "metadata": {
  "kernelspec": {
   "display_name": "Python 3 (ipykernel)",
   "language": "python",
   "name": "python3"
  },
  "language_info": {
   "codemirror_mode": {
    "name": "ipython",
    "version": 3
   },
   "file_extension": ".py",
   "mimetype": "text/x-python",
   "name": "python",
   "nbconvert_exporter": "python",
   "pygments_lexer": "ipython3",
   "version": "3.10.13"
  }
 },
 "nbformat": 4,
 "nbformat_minor": 5
}
